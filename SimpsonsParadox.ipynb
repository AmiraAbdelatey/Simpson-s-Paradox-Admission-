{
 "cells": [
  {
   "cell_type": "markdown",
   "id": "46d769fd",
   "metadata": {},
   "source": [
    "### Simpson's Paradox \n",
    "Use admission_data.csv for this exercise."
   ]
  },
  {
   "cell_type": "code",
   "execution_count": 73,
   "id": "190efbdf",
   "metadata": {},
   "outputs": [
    {
     "data": {
      "text/html": [
       "<div>\n",
       "<style scoped>\n",
       "    .dataframe tbody tr th:only-of-type {\n",
       "        vertical-align: middle;\n",
       "    }\n",
       "\n",
       "    .dataframe tbody tr th {\n",
       "        vertical-align: top;\n",
       "    }\n",
       "\n",
       "    .dataframe thead th {\n",
       "        text-align: right;\n",
       "    }\n",
       "</style>\n",
       "<table border=\"1\" class=\"dataframe\">\n",
       "  <thead>\n",
       "    <tr style=\"text-align: right;\">\n",
       "      <th></th>\n",
       "      <th>student_id</th>\n",
       "      <th>gender</th>\n",
       "      <th>major</th>\n",
       "      <th>admitted</th>\n",
       "    </tr>\n",
       "  </thead>\n",
       "  <tbody>\n",
       "    <tr>\n",
       "      <th>0</th>\n",
       "      <td>35377</td>\n",
       "      <td>female</td>\n",
       "      <td>Chemistry</td>\n",
       "      <td>False</td>\n",
       "    </tr>\n",
       "    <tr>\n",
       "      <th>1</th>\n",
       "      <td>56105</td>\n",
       "      <td>male</td>\n",
       "      <td>Physics</td>\n",
       "      <td>True</td>\n",
       "    </tr>\n",
       "    <tr>\n",
       "      <th>2</th>\n",
       "      <td>31441</td>\n",
       "      <td>female</td>\n",
       "      <td>Chemistry</td>\n",
       "      <td>False</td>\n",
       "    </tr>\n",
       "    <tr>\n",
       "      <th>3</th>\n",
       "      <td>51765</td>\n",
       "      <td>male</td>\n",
       "      <td>Physics</td>\n",
       "      <td>True</td>\n",
       "    </tr>\n",
       "    <tr>\n",
       "      <th>4</th>\n",
       "      <td>53714</td>\n",
       "      <td>female</td>\n",
       "      <td>Physics</td>\n",
       "      <td>True</td>\n",
       "    </tr>\n",
       "  </tbody>\n",
       "</table>\n",
       "</div>"
      ],
      "text/plain": [
       "   student_id  gender      major  admitted\n",
       "0       35377  female  Chemistry     False\n",
       "1       56105    male    Physics      True\n",
       "2       31441  female  Chemistry     False\n",
       "3       51765    male    Physics      True\n",
       "4       53714  female    Physics      True"
      ]
     },
     "execution_count": 73,
     "metadata": {},
     "output_type": "execute_result"
    }
   ],
   "source": [
    "# Load and view first few lines of dataset\n",
    "# Load and view first few lines of dataset\n",
    "import pandas as pd\n",
    "df = pd.read_csv('admission_data.csv')\n",
    "df.head()"
   ]
  },
  {
   "cell_type": "markdown",
   "id": "aa1d777b",
   "metadata": {},
   "source": [
    "### Proportion and admission rate for each gender"
   ]
  },
  {
   "cell_type": "code",
   "execution_count": 74,
   "id": "0cffba56",
   "metadata": {},
   "outputs": [
    {
     "name": "stdout",
     "output_type": "stream",
     "text": [
      "257\n",
      "500\n",
      "51.4 %\n"
     ]
    }
   ],
   "source": [
    "# Number of students that are female\n",
    "print (len(df[df['gender']=='female']))\n",
    "print (df.shape[0])\n",
    "\n",
    "# Proportion of students that are female\n",
    "print((len(df[df['gender']=='female'])/df.shape[0])*100,\"%\" )"
   ]
  },
  {
   "cell_type": "code",
   "execution_count": 75,
   "id": "6c70fea4",
   "metadata": {},
   "outputs": [
    {
     "name": "stdout",
     "output_type": "stream",
     "text": [
      "243\n",
      "500\n",
      "48.6 %\n"
     ]
    }
   ],
   "source": [
    "# Number of students that are male\n",
    "print (len(df[df['gender']=='male']))\n",
    "print (df.shape[0])\n",
    "\n",
    "# Proportion of students that are male\n",
    "print((len(df[df['gender']=='male'])/df.shape[0])*100,\"%\" )"
   ]
  },
  {
   "cell_type": "code",
   "execution_count": 76,
   "id": "9d8d9289",
   "metadata": {},
   "outputs": [
    {
     "name": "stdout",
     "output_type": "stream",
     "text": [
      "74\n",
      "28.793774319066145 %\n"
     ]
    }
   ],
   "source": [
    "# Admission rate for females\n",
    "print(len(df[(df['gender']=='female') & (df['admitted'])]))\n",
    "print((len(df[(df['gender']=='female') & (df['admitted'])])/(len(df[df['gender']=='female'])))*100,\"%\")"
   ]
  },
  {
   "cell_type": "code",
   "execution_count": 77,
   "id": "12838c3f",
   "metadata": {},
   "outputs": [
    {
     "name": "stdout",
     "output_type": "stream",
     "text": [
      "118\n",
      "48.559670781893004 %\n"
     ]
    }
   ],
   "source": [
    "# Admission rate for males\n",
    "print(len(df[(df['gender']=='male') & (df['admitted'])]))\n",
    "print((len(df[(df['gender']=='male') & (df['admitted'])])/(len(df[df['gender']=='male'])))*100,\"%\")"
   ]
  },
  {
   "cell_type": "markdown",
   "id": "698db273",
   "metadata": {},
   "source": [
    "### Proportion and admission rate for physics majors of each gender\n"
   ]
  },
  {
   "cell_type": "code",
   "execution_count": 78,
   "id": "9a0e05ce",
   "metadata": {},
   "outputs": [
    {
     "name": "stdout",
     "output_type": "stream",
     "text": [
      "12.062256809338521 %\n"
     ]
    }
   ],
   "source": [
    "# What proportion of female students are majoring in physics?\n",
    "print((len(df[(df['gender']=='female') & (df['major']=='Physics')])/(len(df[df['gender']=='female'])))*100,\"%\")"
   ]
  },
  {
   "cell_type": "code",
   "execution_count": 79,
   "id": "90a8153d",
   "metadata": {},
   "outputs": [
    {
     "name": "stdout",
     "output_type": "stream",
     "text": [
      "92.5925925925926 %\n"
     ]
    }
   ],
   "source": [
    "# What proportion of male students are majoring in physics?\n",
    "print((len(df[(df['gender']=='male') & (df['major']=='Physics')])/(len(df[df['gender']=='male'])))*100,\"%\")"
   ]
  },
  {
   "cell_type": "code",
   "execution_count": 80,
   "id": "087265e6",
   "metadata": {},
   "outputs": [
    {
     "name": "stdout",
     "output_type": "stream",
     "text": [
      "74.19354838709677 %\n"
     ]
    }
   ],
   "source": [
    "# Admission rate for female physics majors\n",
    "print((len(df[(df['gender']=='female') & (df['major']=='Physics') & (df['admitted'])])/(len(df[(df['gender']=='female') & (df['major'] == 'Physics')])))*100,\"%\")"
   ]
  },
  {
   "cell_type": "code",
   "execution_count": 81,
   "id": "318ffa63",
   "metadata": {},
   "outputs": [
    {
     "name": "stdout",
     "output_type": "stream",
     "text": [
      "51.55555555555556 %\n"
     ]
    }
   ],
   "source": [
    "# Admission rate for male physics majors\n",
    "print((len(df[(df['gender']=='male') & (df['major']=='Physics') & (df['admitted'])])/(len(df[(df['gender']=='male') & (df['major'] == 'Physics')])))*100,\"%\")"
   ]
  },
  {
   "cell_type": "markdown",
   "id": "99d52246",
   "metadata": {},
   "source": [
    "### Proportion and admission rate for chemistry majors of each gender"
   ]
  },
  {
   "cell_type": "code",
   "execution_count": 82,
   "id": "c5f0957f",
   "metadata": {},
   "outputs": [
    {
     "name": "stdout",
     "output_type": "stream",
     "text": [
      "87.93774319066148 %\n"
     ]
    }
   ],
   "source": [
    "# What proportion of female students are majoring in chemistry?\n",
    "print((len(df[(df['gender']=='female') & (df['major']=='Chemistry')])/(len(df[df['gender']=='female'])))*100,\"%\")"
   ]
  },
  {
   "cell_type": "code",
   "execution_count": 83,
   "id": "3499cfe0",
   "metadata": {},
   "outputs": [
    {
     "name": "stdout",
     "output_type": "stream",
     "text": [
      "7.4074074074074066 %\n"
     ]
    }
   ],
   "source": [
    "# What proportion of male students are majoring in chemistry?\n",
    "print((len(df[(df['gender']=='male') & (df['major']=='Chemistry')])/(len(df[df['gender']=='male'])))*100,\"%\")"
   ]
  },
  {
   "cell_type": "code",
   "execution_count": 84,
   "id": "12c4ccf7",
   "metadata": {},
   "outputs": [
    {
     "name": "stdout",
     "output_type": "stream",
     "text": [
      "22.566371681415927 %\n"
     ]
    }
   ],
   "source": [
    "# Admission rate for female chemistry majors\n",
    "print((len(df[(df['gender']=='female') & (df['major']=='Chemistry') & (df['admitted'])])/(len(df[(df['gender']=='female') & (df['major'] == 'Chemistry')])))*100,\"%\")"
   ]
  },
  {
   "cell_type": "code",
   "execution_count": 85,
   "id": "8e9746ce",
   "metadata": {},
   "outputs": [
    {
     "name": "stdout",
     "output_type": "stream",
     "text": [
      "11.11111111111111 %\n"
     ]
    }
   ],
   "source": [
    "# Admission rate for male chemistry majors\n",
    "print((len(df[(df['gender']=='male') & (df['major']=='Chemistry') & (df['admitted'])])/(len(df[(df['gender']=='male') & (df['major'] == 'Chemistry')])))*100,\"%\")"
   ]
  },
  {
   "cell_type": "markdown",
   "id": "af66ba6d",
   "metadata": {},
   "source": [
    "### Admission rate for each major\n"
   ]
  },
  {
   "cell_type": "code",
   "execution_count": 86,
   "id": "2f81fb26",
   "metadata": {},
   "outputs": [
    {
     "name": "stdout",
     "output_type": "stream",
     "text": [
      "54.296875 %\n"
     ]
    }
   ],
   "source": [
    "# Admission rate for physics majors\n",
    "print((len(df[(df['major']=='Physics') & (df['admitted'])])/(len(df[df['major'] == 'Physics'])))*100,\"%\")"
   ]
  },
  {
   "cell_type": "code",
   "execution_count": 87,
   "id": "02abead6",
   "metadata": {},
   "outputs": [
    {
     "name": "stdout",
     "output_type": "stream",
     "text": [
      "21.721311475409834 %\n"
     ]
    }
   ],
   "source": [
    "# Admission rate for chemistry majors\n",
    "print((len(df[(df['major']=='Chemistry') & (df['admitted'])])/(len(df[df['major'] == 'Chemistry'])))*100,\"%\")"
   ]
  }
 ],
 "metadata": {
  "kernelspec": {
   "display_name": "Python 3 (ipykernel)",
   "language": "python",
   "name": "python3"
  },
  "language_info": {
   "codemirror_mode": {
    "name": "ipython",
    "version": 3
   },
   "file_extension": ".py",
   "mimetype": "text/x-python",
   "name": "python",
   "nbconvert_exporter": "python",
   "pygments_lexer": "ipython3",
   "version": "3.9.7"
  }
 },
 "nbformat": 4,
 "nbformat_minor": 5
}
